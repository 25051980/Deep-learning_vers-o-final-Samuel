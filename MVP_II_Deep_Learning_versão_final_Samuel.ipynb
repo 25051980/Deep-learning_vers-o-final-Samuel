{
  "cells": [
    {
      "cell_type": "markdown",
      "metadata": {
        "id": "view-in-github",
        "colab_type": "text"
      },
      "source": [
        "<a href=\"https://colab.research.google.com/github/25051980/Deep-learning_vers-o-final-Samuel/blob/main/MVP_II_Deep_Learning_vers%C3%A3o_final_Samuel.ipynb\" target=\"_parent\"><img src=\"https://colab.research.google.com/assets/colab-badge.svg\" alt=\"Open In Colab\"/></a>"
      ]
    },
    {
      "cell_type": "markdown",
      "metadata": {
        "id": "oQ2suPVaSBTj"
      },
      "source": [
        "# Análise de Sentimentos em Tweets de Companhias Aéreas: Um Estudo de Caso\n",
        "\n",
        "## Introdução\n",
        "A análise de sentimentos é uma técnica poderosa que permite às empresas entenderem melhor as opiniões e emoções de seus clientes em relação aos seus produtos e serviços. Companhias aéreas nos Estados Unidos tem uma competição muito forte para manter clientes e mantê-los satisfeitos. Aqui foi abordado um problema que consiste em poder identificar/estudar a satisfação dos clientes a partir de comentários sobre as companhias aereas.\n",
        "\n",
        "Neste trabalho, desenvolvemos um modelo de rede neural para analisar os sentimentos expressos em comentários sobre algumas companhias aéreas específicas e classificá-los em \"Positivos - Neutrais\" ou \"Negativos\". Nosso objetivo é fornecer insights valiosos para a empresa, a fim de ajudá-la a melhorar sua reputação e atendimento ao cliente.\n",
        "\n",
        "Temos a hipótese de que o grau de satisfação está relacionado com a quantidade de comentários negativos. Este tipo de comentários, muitas vezes estão vinculados ao mau atendimento, mau servico, atrasos, entre outros, o que impacta negativamente a satisfação dos clientes.\n",
        "\n",
        "Para desenvolver o trabalho tivemos como condição focar somente em comentários do tweeter."
      ]
    },
    {
      "cell_type": "markdown",
      "metadata": {
        "id": "4qK8n7j6Tnsh"
      },
      "source": [
        "### Bibliotecas necessárias"
      ]
    },
    {
      "cell_type": "code",
      "execution_count": null,
      "metadata": {
        "id": "vVp3Bsna2zLy"
      },
      "outputs": [],
      "source": [
        "# importando bibliotecas\n",
        "import tensorflow as tf\n",
        "from tensorflow import keras\n",
        "from tensorflow.keras.preprocessing.text import Tokenizer\n",
        "from tensorflow.keras.preprocessing.sequence import pad_sequences\n",
        "from pandas.core.api import DataFrame\n",
        "from scipy.sparse import hstack\n",
        "from sklearn.feature_extraction.text import CountVectorizer\n",
        "# 1) Importando dados de uma url para um dataframe\n",
        "\n",
        "# imports necessários\n",
        "import pandas as pd\n",
        "import numpy as np\n",
        "import matplotlib.pyplot as plt\n",
        "%matplotlib inline\n",
        "import matplotlib.style\n",
        "from matplotlib.pyplot import subplots\n",
        "matplotlib.style.use('ggplot')\n",
        "import seaborn as sns\n",
        "from datetime import datetime\n",
        "from scipy import stats # estatística\n",
        "from sklearn.preprocessing import StandardScaler, OneHotEncoder # modelagem estatística. Padronização\n",
        "from sklearn.pipeline import Pipeline\n",
        "from sklearn.compose import ColumnTransformer\n",
        "from sklearn.model_selection import KFold, GridSearchCV, train_test_split\n",
        "from sklearn.linear_model import LogisticRegression\n",
        "from sklearn.ensemble import RandomForestClassifier\n",
        "import os\n",
        "import warnings\n",
        "warnings.filterwarnings(\"ignore\")\n",
        "pd.set_option('display.max_columns', None)\n",
        "from sklearn.metrics import confusion_matrix, classification_report, roc_curve\n",
        "from sklearn.preprocessing import LabelEncoder\n",
        "\n"
      ]
    },
    {
      "cell_type": "markdown",
      "metadata": {
        "id": "KR9I8ptLTtSM"
      },
      "source": [
        "### Carregando os dados dos tweets"
      ]
    },
    {
      "cell_type": "code",
      "execution_count": null,
      "metadata": {
        "colab": {
          "base_uri": "https://localhost:8080/",
          "height": 676
        },
        "id": "pnl2GdIP5igw",
        "outputId": "3bf9c56f-73bc-4ebd-d4a7-43eb2fe2e857"
      },
      "outputs": [
        {
          "output_type": "execute_result",
          "data": {
            "text/plain": [
              "             tweet_id airline_sentiment  airline_sentiment_confidence  \\\n",
              "0  570306133677760513  neutral           1.0000                         \n",
              "1  570301130888122368  positive          0.3486                         \n",
              "2  570301083672813571  neutral           0.6837                         \n",
              "3  570301031407624196  negative          1.0000                         \n",
              "4  570300817074462722  negative          1.0000                         \n",
              "\n",
              "  negativereason  negativereason_confidence         airline  \\\n",
              "0  NaN           NaN                         Virgin America   \n",
              "1  NaN            0.0000                     Virgin America   \n",
              "2  NaN           NaN                         Virgin America   \n",
              "3  Bad Flight     0.7033                     Virgin America   \n",
              "4  Can't Tell     1.0000                     Virgin America   \n",
              "\n",
              "  airline_sentiment_gold        name negativereason_gold  retweet_count  \\\n",
              "0  NaN                    cairdin     NaN                 0               \n",
              "1  NaN                    jnardino    NaN                 0               \n",
              "2  NaN                    yvonnalynn  NaN                 0               \n",
              "3  NaN                    jnardino    NaN                 0               \n",
              "4  NaN                    jnardino    NaN                 0               \n",
              "\n",
              "                                                                                                                             text  \\\n",
              "0  @VirginAmerica What @dhepburn said.                                                                                              \n",
              "1  @VirginAmerica plus you've added commercials to the experience... tacky.                                                         \n",
              "2  @VirginAmerica I didn't today... Must mean I need to take another trip!                                                          \n",
              "3  @VirginAmerica it's really aggressive to blast obnoxious \"entertainment\" in your guests' faces &amp; they have little recourse   \n",
              "4  @VirginAmerica and it's a really big bad thing about it                                                                          \n",
              "\n",
              "  tweet_coord              tweet_created tweet_location  \\\n",
              "0  NaN         2015-02-24 11:35:52 -0800  NaN             \n",
              "1  NaN         2015-02-24 11:15:59 -0800  NaN             \n",
              "2  NaN         2015-02-24 11:15:48 -0800  Lets Play       \n",
              "3  NaN         2015-02-24 11:15:36 -0800  NaN             \n",
              "4  NaN         2015-02-24 11:14:45 -0800  NaN             \n",
              "\n",
              "                user_timezone  \n",
              "0  Eastern Time (US & Canada)  \n",
              "1  Pacific Time (US & Canada)  \n",
              "2  Central Time (US & Canada)  \n",
              "3  Pacific Time (US & Canada)  \n",
              "4  Pacific Time (US & Canada)  "
            ],
            "text/html": [
              "\n",
              "\n",
              "  <div id=\"df-3bb04459-b1f1-43e9-88d0-6076641c2b94\">\n",
              "    <div class=\"colab-df-container\">\n",
              "      <div>\n",
              "<style scoped>\n",
              "    .dataframe tbody tr th:only-of-type {\n",
              "        vertical-align: middle;\n",
              "    }\n",
              "\n",
              "    .dataframe tbody tr th {\n",
              "        vertical-align: top;\n",
              "    }\n",
              "\n",
              "    .dataframe thead th {\n",
              "        text-align: right;\n",
              "    }\n",
              "</style>\n",
              "<table border=\"1\" class=\"dataframe\">\n",
              "  <thead>\n",
              "    <tr style=\"text-align: right;\">\n",
              "      <th></th>\n",
              "      <th>tweet_id</th>\n",
              "      <th>airline_sentiment</th>\n",
              "      <th>airline_sentiment_confidence</th>\n",
              "      <th>negativereason</th>\n",
              "      <th>negativereason_confidence</th>\n",
              "      <th>airline</th>\n",
              "      <th>airline_sentiment_gold</th>\n",
              "      <th>name</th>\n",
              "      <th>negativereason_gold</th>\n",
              "      <th>retweet_count</th>\n",
              "      <th>text</th>\n",
              "      <th>tweet_coord</th>\n",
              "      <th>tweet_created</th>\n",
              "      <th>tweet_location</th>\n",
              "      <th>user_timezone</th>\n",
              "    </tr>\n",
              "  </thead>\n",
              "  <tbody>\n",
              "    <tr>\n",
              "      <th>0</th>\n",
              "      <td>570306133677760513</td>\n",
              "      <td>neutral</td>\n",
              "      <td>1.0000</td>\n",
              "      <td>NaN</td>\n",
              "      <td>NaN</td>\n",
              "      <td>Virgin America</td>\n",
              "      <td>NaN</td>\n",
              "      <td>cairdin</td>\n",
              "      <td>NaN</td>\n",
              "      <td>0</td>\n",
              "      <td>@VirginAmerica What @dhepburn said.</td>\n",
              "      <td>NaN</td>\n",
              "      <td>2015-02-24 11:35:52 -0800</td>\n",
              "      <td>NaN</td>\n",
              "      <td>Eastern Time (US &amp; Canada)</td>\n",
              "    </tr>\n",
              "    <tr>\n",
              "      <th>1</th>\n",
              "      <td>570301130888122368</td>\n",
              "      <td>positive</td>\n",
              "      <td>0.3486</td>\n",
              "      <td>NaN</td>\n",
              "      <td>0.0000</td>\n",
              "      <td>Virgin America</td>\n",
              "      <td>NaN</td>\n",
              "      <td>jnardino</td>\n",
              "      <td>NaN</td>\n",
              "      <td>0</td>\n",
              "      <td>@VirginAmerica plus you've added commercials to the experience... tacky.</td>\n",
              "      <td>NaN</td>\n",
              "      <td>2015-02-24 11:15:59 -0800</td>\n",
              "      <td>NaN</td>\n",
              "      <td>Pacific Time (US &amp; Canada)</td>\n",
              "    </tr>\n",
              "    <tr>\n",
              "      <th>2</th>\n",
              "      <td>570301083672813571</td>\n",
              "      <td>neutral</td>\n",
              "      <td>0.6837</td>\n",
              "      <td>NaN</td>\n",
              "      <td>NaN</td>\n",
              "      <td>Virgin America</td>\n",
              "      <td>NaN</td>\n",
              "      <td>yvonnalynn</td>\n",
              "      <td>NaN</td>\n",
              "      <td>0</td>\n",
              "      <td>@VirginAmerica I didn't today... Must mean I need to take another trip!</td>\n",
              "      <td>NaN</td>\n",
              "      <td>2015-02-24 11:15:48 -0800</td>\n",
              "      <td>Lets Play</td>\n",
              "      <td>Central Time (US &amp; Canada)</td>\n",
              "    </tr>\n",
              "    <tr>\n",
              "      <th>3</th>\n",
              "      <td>570301031407624196</td>\n",
              "      <td>negative</td>\n",
              "      <td>1.0000</td>\n",
              "      <td>Bad Flight</td>\n",
              "      <td>0.7033</td>\n",
              "      <td>Virgin America</td>\n",
              "      <td>NaN</td>\n",
              "      <td>jnardino</td>\n",
              "      <td>NaN</td>\n",
              "      <td>0</td>\n",
              "      <td>@VirginAmerica it's really aggressive to blast obnoxious \"entertainment\" in your guests' faces &amp;amp; they have little recourse</td>\n",
              "      <td>NaN</td>\n",
              "      <td>2015-02-24 11:15:36 -0800</td>\n",
              "      <td>NaN</td>\n",
              "      <td>Pacific Time (US &amp; Canada)</td>\n",
              "    </tr>\n",
              "    <tr>\n",
              "      <th>4</th>\n",
              "      <td>570300817074462722</td>\n",
              "      <td>negative</td>\n",
              "      <td>1.0000</td>\n",
              "      <td>Can't Tell</td>\n",
              "      <td>1.0000</td>\n",
              "      <td>Virgin America</td>\n",
              "      <td>NaN</td>\n",
              "      <td>jnardino</td>\n",
              "      <td>NaN</td>\n",
              "      <td>0</td>\n",
              "      <td>@VirginAmerica and it's a really big bad thing about it</td>\n",
              "      <td>NaN</td>\n",
              "      <td>2015-02-24 11:14:45 -0800</td>\n",
              "      <td>NaN</td>\n",
              "      <td>Pacific Time (US &amp; Canada)</td>\n",
              "    </tr>\n",
              "  </tbody>\n",
              "</table>\n",
              "</div>\n",
              "      <button class=\"colab-df-convert\" onclick=\"convertToInteractive('df-3bb04459-b1f1-43e9-88d0-6076641c2b94')\"\n",
              "              title=\"Convert this dataframe to an interactive table.\"\n",
              "              style=\"display:none;\">\n",
              "\n",
              "  <svg xmlns=\"http://www.w3.org/2000/svg\" height=\"24px\"viewBox=\"0 0 24 24\"\n",
              "       width=\"24px\">\n",
              "    <path d=\"M0 0h24v24H0V0z\" fill=\"none\"/>\n",
              "    <path d=\"M18.56 5.44l.94 2.06.94-2.06 2.06-.94-2.06-.94-.94-2.06-.94 2.06-2.06.94zm-11 1L8.5 8.5l.94-2.06 2.06-.94-2.06-.94L8.5 2.5l-.94 2.06-2.06.94zm10 10l.94 2.06.94-2.06 2.06-.94-2.06-.94-.94-2.06-.94 2.06-2.06.94z\"/><path d=\"M17.41 7.96l-1.37-1.37c-.4-.4-.92-.59-1.43-.59-.52 0-1.04.2-1.43.59L10.3 9.45l-7.72 7.72c-.78.78-.78 2.05 0 2.83L4 21.41c.39.39.9.59 1.41.59.51 0 1.02-.2 1.41-.59l7.78-7.78 2.81-2.81c.8-.78.8-2.07 0-2.86zM5.41 20L4 18.59l7.72-7.72 1.47 1.35L5.41 20z\"/>\n",
              "  </svg>\n",
              "      </button>\n",
              "\n",
              "\n",
              "\n",
              "    <div id=\"df-d3b8ec46-e3e0-4102-9913-570c5155b3b9\">\n",
              "      <button class=\"colab-df-quickchart\" onclick=\"quickchart('df-d3b8ec46-e3e0-4102-9913-570c5155b3b9')\"\n",
              "              title=\"Suggest charts.\"\n",
              "              style=\"display:none;\">\n",
              "\n",
              "<svg xmlns=\"http://www.w3.org/2000/svg\" height=\"24px\"viewBox=\"0 0 24 24\"\n",
              "     width=\"24px\">\n",
              "    <g>\n",
              "        <path d=\"M19 3H5c-1.1 0-2 .9-2 2v14c0 1.1.9 2 2 2h14c1.1 0 2-.9 2-2V5c0-1.1-.9-2-2-2zM9 17H7v-7h2v7zm4 0h-2V7h2v10zm4 0h-2v-4h2v4z\"/>\n",
              "    </g>\n",
              "</svg>\n",
              "      </button>\n",
              "    </div>\n",
              "\n",
              "<style>\n",
              "  .colab-df-quickchart {\n",
              "    background-color: #E8F0FE;\n",
              "    border: none;\n",
              "    border-radius: 50%;\n",
              "    cursor: pointer;\n",
              "    display: none;\n",
              "    fill: #1967D2;\n",
              "    height: 32px;\n",
              "    padding: 0 0 0 0;\n",
              "    width: 32px;\n",
              "  }\n",
              "\n",
              "  .colab-df-quickchart:hover {\n",
              "    background-color: #E2EBFA;\n",
              "    box-shadow: 0px 1px 2px rgba(60, 64, 67, 0.3), 0px 1px 3px 1px rgba(60, 64, 67, 0.15);\n",
              "    fill: #174EA6;\n",
              "  }\n",
              "\n",
              "  [theme=dark] .colab-df-quickchart {\n",
              "    background-color: #3B4455;\n",
              "    fill: #D2E3FC;\n",
              "  }\n",
              "\n",
              "  [theme=dark] .colab-df-quickchart:hover {\n",
              "    background-color: #434B5C;\n",
              "    box-shadow: 0px 1px 3px 1px rgba(0, 0, 0, 0.15);\n",
              "    filter: drop-shadow(0px 1px 2px rgba(0, 0, 0, 0.3));\n",
              "    fill: #FFFFFF;\n",
              "  }\n",
              "</style>\n",
              "\n",
              "    <script>\n",
              "      async function quickchart(key) {\n",
              "        const containerElement = document.querySelector('#' + key);\n",
              "        const charts = await google.colab.kernel.invokeFunction(\n",
              "            'suggestCharts', [key], {});\n",
              "      }\n",
              "    </script>\n",
              "\n",
              "      <script>\n",
              "\n",
              "function displayQuickchartButton(domScope) {\n",
              "  let quickchartButtonEl =\n",
              "    domScope.querySelector('#df-d3b8ec46-e3e0-4102-9913-570c5155b3b9 button.colab-df-quickchart');\n",
              "  quickchartButtonEl.style.display =\n",
              "    google.colab.kernel.accessAllowed ? 'block' : 'none';\n",
              "}\n",
              "\n",
              "        displayQuickchartButton(document);\n",
              "      </script>\n",
              "      <style>\n",
              "    .colab-df-container {\n",
              "      display:flex;\n",
              "      flex-wrap:wrap;\n",
              "      gap: 12px;\n",
              "    }\n",
              "\n",
              "    .colab-df-convert {\n",
              "      background-color: #E8F0FE;\n",
              "      border: none;\n",
              "      border-radius: 50%;\n",
              "      cursor: pointer;\n",
              "      display: none;\n",
              "      fill: #1967D2;\n",
              "      height: 32px;\n",
              "      padding: 0 0 0 0;\n",
              "      width: 32px;\n",
              "    }\n",
              "\n",
              "    .colab-df-convert:hover {\n",
              "      background-color: #E2EBFA;\n",
              "      box-shadow: 0px 1px 2px rgba(60, 64, 67, 0.3), 0px 1px 3px 1px rgba(60, 64, 67, 0.15);\n",
              "      fill: #174EA6;\n",
              "    }\n",
              "\n",
              "    [theme=dark] .colab-df-convert {\n",
              "      background-color: #3B4455;\n",
              "      fill: #D2E3FC;\n",
              "    }\n",
              "\n",
              "    [theme=dark] .colab-df-convert:hover {\n",
              "      background-color: #434B5C;\n",
              "      box-shadow: 0px 1px 3px 1px rgba(0, 0, 0, 0.15);\n",
              "      filter: drop-shadow(0px 1px 2px rgba(0, 0, 0, 0.3));\n",
              "      fill: #FFFFFF;\n",
              "    }\n",
              "  </style>\n",
              "\n",
              "      <script>\n",
              "        const buttonEl =\n",
              "          document.querySelector('#df-3bb04459-b1f1-43e9-88d0-6076641c2b94 button.colab-df-convert');\n",
              "        buttonEl.style.display =\n",
              "          google.colab.kernel.accessAllowed ? 'block' : 'none';\n",
              "\n",
              "        async function convertToInteractive(key) {\n",
              "          const element = document.querySelector('#df-3bb04459-b1f1-43e9-88d0-6076641c2b94');\n",
              "          const dataTable =\n",
              "            await google.colab.kernel.invokeFunction('convertToInteractive',\n",
              "                                                     [key], {});\n",
              "          if (!dataTable) return;\n",
              "\n",
              "          const docLinkHtml = 'Like what you see? Visit the ' +\n",
              "            '<a target=\"_blank\" href=https://colab.research.google.com/notebooks/data_table.ipynb>data table notebook</a>'\n",
              "            + ' to learn more about interactive tables.';\n",
              "          element.innerHTML = '';\n",
              "          dataTable['output_type'] = 'display_data';\n",
              "          await google.colab.output.renderOutput(dataTable, element);\n",
              "          const docLink = document.createElement('div');\n",
              "          docLink.innerHTML = docLinkHtml;\n",
              "          element.appendChild(docLink);\n",
              "        }\n",
              "      </script>\n",
              "    </div>\n",
              "  </div>\n"
            ]
          },
          "metadata": {},
          "execution_count": 24
        }
      ],
      "source": [
        "# url a importar\n",
        "url_dados = 'https://raw.githubusercontent.com/25051980/MVP1/main/Tweets.csv'\n",
        "\n",
        "\n",
        "# carga do dataset através do csv\n",
        "df0 = pd.read_csv(url_dados)#\n",
        "\n",
        "# exibe as 5 primeiras linhas\n",
        "df0.head()"
      ]
    },
    {
      "cell_type": "code",
      "execution_count": null,
      "metadata": {
        "colab": {
          "base_uri": "https://localhost:8080/"
        },
        "id": "D5j4K6eL6jYZ",
        "outputId": "2ecaf77d-6b7a-4187-93de-5c7de0d1708c"
      },
      "outputs": [
        {
          "output_type": "execute_result",
          "data": {
            "text/plain": [
              "Index(['tweet_id', 'airline_sentiment', 'airline_sentiment_confidence',\n",
              "       'negativereason', 'negativereason_confidence', 'airline',\n",
              "       'airline_sentiment_gold', 'name', 'negativereason_gold',\n",
              "       'retweet_count', 'text', 'tweet_coord', 'tweet_created',\n",
              "       'tweet_location', 'user_timezone'],\n",
              "      dtype='object')"
            ]
          },
          "metadata": {},
          "execution_count": 25
        }
      ],
      "source": [
        "df0.columns #Observando as colunas do dataframe"
      ]
    },
    {
      "cell_type": "code",
      "execution_count": null,
      "metadata": {
        "colab": {
          "base_uri": "https://localhost:8080/"
        },
        "id": "30ocQ0XI6ihn",
        "outputId": "b767fe8d-7d01-4a26-d4ee-92aedb0e737f"
      },
      "outputs": [
        {
          "output_type": "execute_result",
          "data": {
            "text/plain": [
              "tweet_id                        int64  \n",
              "airline_sentiment               object \n",
              "airline_sentiment_confidence    float64\n",
              "negativereason                  object \n",
              "negativereason_confidence       float64\n",
              "airline                         object \n",
              "airline_sentiment_gold          object \n",
              "name                            object \n",
              "negativereason_gold             object \n",
              "retweet_count                   int64  \n",
              "text                            object \n",
              "tweet_coord                     object \n",
              "tweet_created                   object \n",
              "tweet_location                  object \n",
              "user_timezone                   object \n",
              "dtype: object"
            ]
          },
          "metadata": {},
          "execution_count": 26
        }
      ],
      "source": [
        "df0.dtypes #Visualizando o tipo de cada coluna"
      ]
    },
    {
      "cell_type": "code",
      "execution_count": null,
      "metadata": {
        "colab": {
          "base_uri": "https://localhost:8080/"
        },
        "id": "VUD-uy6VQ3yL",
        "outputId": "e66c56c6-b6ce-42b0-ac56-eb94804ea229"
      },
      "outputs": [
        {
          "output_type": "execute_result",
          "data": {
            "text/plain": [
              "(14640, 15)"
            ]
          },
          "metadata": {},
          "execution_count": 27
        }
      ],
      "source": [
        "df0.shape #Dataframe com 14640 linhas e 15 colunas"
      ]
    },
    {
      "cell_type": "code",
      "execution_count": null,
      "metadata": {
        "id": "NI3PABeORoGn"
      },
      "outputs": [],
      "source": [
        "df=df0.head(600) #Os modelos foram rodados com apenas 5000 linhas devido ao custo computacional ser muito elevado\n",
        "#df=df0.copy()"
      ]
    },
    {
      "cell_type": "markdown",
      "metadata": {
        "id": "G62Sr--EUlLt"
      },
      "source": [
        "### Analizando e explorando os dados"
      ]
    },
    {
      "cell_type": "code",
      "execution_count": null,
      "metadata": {
        "colab": {
          "base_uri": "https://localhost:8080/"
        },
        "id": "A83usZbn6-Dm",
        "outputId": "b819c965-54cd-4707-9b37-9cce4501c872"
      },
      "outputs": [
        {
          "output_type": "stream",
          "name": "stdout",
          "text": [
            "negative    241\n",
            "neutral     194\n",
            "positive    165\n",
            "Name: airline_sentiment, dtype: int64\n"
          ]
        }
      ],
      "source": [
        "sentiment_counts = df.airline_sentiment.value_counts()\n",
        "number_of_tweets = df.tweet_id.count()\n",
        "print(sentiment_counts)"
      ]
    },
    {
      "cell_type": "markdown",
      "metadata": {
        "id": "05JsVpWVYRRu"
      },
      "source": [
        "Temos um total de 6000 tweets, deles 61%(3655) são comentários negativos."
      ]
    },
    {
      "cell_type": "code",
      "execution_count": null,
      "metadata": {
        "colab": {
          "base_uri": "https://localhost:8080/",
          "height": 235
        },
        "id": "EpzOaQmYZl4I",
        "outputId": "46a13615-fb48-4d2e-fd26-c127b72a2644"
      },
      "outputs": [
        {
          "output_type": "execute_result",
          "data": {
            "text/plain": [
              "          airline airline_sentiment  count  total_comments  percentage\n",
              "0  United          negative          60     96              62.500000 \n",
              "1  United          neutral           23     96              23.958333 \n",
              "2  United          positive          13     96              13.541667 \n",
              "3  Virgin America  negative          181    504             35.912698 \n",
              "4  Virgin America  neutral           171    504             33.928571 \n",
              "5  Virgin America  positive          152    504             30.158730 "
            ],
            "text/html": [
              "\n",
              "\n",
              "  <div id=\"df-8056e099-ba56-4a05-b480-ca9b3e779c76\">\n",
              "    <div class=\"colab-df-container\">\n",
              "      <div>\n",
              "<style scoped>\n",
              "    .dataframe tbody tr th:only-of-type {\n",
              "        vertical-align: middle;\n",
              "    }\n",
              "\n",
              "    .dataframe tbody tr th {\n",
              "        vertical-align: top;\n",
              "    }\n",
              "\n",
              "    .dataframe thead th {\n",
              "        text-align: right;\n",
              "    }\n",
              "</style>\n",
              "<table border=\"1\" class=\"dataframe\">\n",
              "  <thead>\n",
              "    <tr style=\"text-align: right;\">\n",
              "      <th></th>\n",
              "      <th>airline</th>\n",
              "      <th>airline_sentiment</th>\n",
              "      <th>count</th>\n",
              "      <th>total_comments</th>\n",
              "      <th>percentage</th>\n",
              "    </tr>\n",
              "  </thead>\n",
              "  <tbody>\n",
              "    <tr>\n",
              "      <th>0</th>\n",
              "      <td>United</td>\n",
              "      <td>negative</td>\n",
              "      <td>60</td>\n",
              "      <td>96</td>\n",
              "      <td>62.500000</td>\n",
              "    </tr>\n",
              "    <tr>\n",
              "      <th>1</th>\n",
              "      <td>United</td>\n",
              "      <td>neutral</td>\n",
              "      <td>23</td>\n",
              "      <td>96</td>\n",
              "      <td>23.958333</td>\n",
              "    </tr>\n",
              "    <tr>\n",
              "      <th>2</th>\n",
              "      <td>United</td>\n",
              "      <td>positive</td>\n",
              "      <td>13</td>\n",
              "      <td>96</td>\n",
              "      <td>13.541667</td>\n",
              "    </tr>\n",
              "    <tr>\n",
              "      <th>3</th>\n",
              "      <td>Virgin America</td>\n",
              "      <td>negative</td>\n",
              "      <td>181</td>\n",
              "      <td>504</td>\n",
              "      <td>35.912698</td>\n",
              "    </tr>\n",
              "    <tr>\n",
              "      <th>4</th>\n",
              "      <td>Virgin America</td>\n",
              "      <td>neutral</td>\n",
              "      <td>171</td>\n",
              "      <td>504</td>\n",
              "      <td>33.928571</td>\n",
              "    </tr>\n",
              "    <tr>\n",
              "      <th>5</th>\n",
              "      <td>Virgin America</td>\n",
              "      <td>positive</td>\n",
              "      <td>152</td>\n",
              "      <td>504</td>\n",
              "      <td>30.158730</td>\n",
              "    </tr>\n",
              "  </tbody>\n",
              "</table>\n",
              "</div>\n",
              "      <button class=\"colab-df-convert\" onclick=\"convertToInteractive('df-8056e099-ba56-4a05-b480-ca9b3e779c76')\"\n",
              "              title=\"Convert this dataframe to an interactive table.\"\n",
              "              style=\"display:none;\">\n",
              "\n",
              "  <svg xmlns=\"http://www.w3.org/2000/svg\" height=\"24px\"viewBox=\"0 0 24 24\"\n",
              "       width=\"24px\">\n",
              "    <path d=\"M0 0h24v24H0V0z\" fill=\"none\"/>\n",
              "    <path d=\"M18.56 5.44l.94 2.06.94-2.06 2.06-.94-2.06-.94-.94-2.06-.94 2.06-2.06.94zm-11 1L8.5 8.5l.94-2.06 2.06-.94-2.06-.94L8.5 2.5l-.94 2.06-2.06.94zm10 10l.94 2.06.94-2.06 2.06-.94-2.06-.94-.94-2.06-.94 2.06-2.06.94z\"/><path d=\"M17.41 7.96l-1.37-1.37c-.4-.4-.92-.59-1.43-.59-.52 0-1.04.2-1.43.59L10.3 9.45l-7.72 7.72c-.78.78-.78 2.05 0 2.83L4 21.41c.39.39.9.59 1.41.59.51 0 1.02-.2 1.41-.59l7.78-7.78 2.81-2.81c.8-.78.8-2.07 0-2.86zM5.41 20L4 18.59l7.72-7.72 1.47 1.35L5.41 20z\"/>\n",
              "  </svg>\n",
              "      </button>\n",
              "\n",
              "\n",
              "\n",
              "    <div id=\"df-9c50ed35-ea50-4801-9f0d-3ae5e7087569\">\n",
              "      <button class=\"colab-df-quickchart\" onclick=\"quickchart('df-9c50ed35-ea50-4801-9f0d-3ae5e7087569')\"\n",
              "              title=\"Suggest charts.\"\n",
              "              style=\"display:none;\">\n",
              "\n",
              "<svg xmlns=\"http://www.w3.org/2000/svg\" height=\"24px\"viewBox=\"0 0 24 24\"\n",
              "     width=\"24px\">\n",
              "    <g>\n",
              "        <path d=\"M19 3H5c-1.1 0-2 .9-2 2v14c0 1.1.9 2 2 2h14c1.1 0 2-.9 2-2V5c0-1.1-.9-2-2-2zM9 17H7v-7h2v7zm4 0h-2V7h2v10zm4 0h-2v-4h2v4z\"/>\n",
              "    </g>\n",
              "</svg>\n",
              "      </button>\n",
              "    </div>\n",
              "\n",
              "<style>\n",
              "  .colab-df-quickchart {\n",
              "    background-color: #E8F0FE;\n",
              "    border: none;\n",
              "    border-radius: 50%;\n",
              "    cursor: pointer;\n",
              "    display: none;\n",
              "    fill: #1967D2;\n",
              "    height: 32px;\n",
              "    padding: 0 0 0 0;\n",
              "    width: 32px;\n",
              "  }\n",
              "\n",
              "  .colab-df-quickchart:hover {\n",
              "    background-color: #E2EBFA;\n",
              "    box-shadow: 0px 1px 2px rgba(60, 64, 67, 0.3), 0px 1px 3px 1px rgba(60, 64, 67, 0.15);\n",
              "    fill: #174EA6;\n",
              "  }\n",
              "\n",
              "  [theme=dark] .colab-df-quickchart {\n",
              "    background-color: #3B4455;\n",
              "    fill: #D2E3FC;\n",
              "  }\n",
              "\n",
              "  [theme=dark] .colab-df-quickchart:hover {\n",
              "    background-color: #434B5C;\n",
              "    box-shadow: 0px 1px 3px 1px rgba(0, 0, 0, 0.15);\n",
              "    filter: drop-shadow(0px 1px 2px rgba(0, 0, 0, 0.3));\n",
              "    fill: #FFFFFF;\n",
              "  }\n",
              "</style>\n",
              "\n",
              "    <script>\n",
              "      async function quickchart(key) {\n",
              "        const containerElement = document.querySelector('#' + key);\n",
              "        const charts = await google.colab.kernel.invokeFunction(\n",
              "            'suggestCharts', [key], {});\n",
              "      }\n",
              "    </script>\n",
              "\n",
              "      <script>\n",
              "\n",
              "function displayQuickchartButton(domScope) {\n",
              "  let quickchartButtonEl =\n",
              "    domScope.querySelector('#df-9c50ed35-ea50-4801-9f0d-3ae5e7087569 button.colab-df-quickchart');\n",
              "  quickchartButtonEl.style.display =\n",
              "    google.colab.kernel.accessAllowed ? 'block' : 'none';\n",
              "}\n",
              "\n",
              "        displayQuickchartButton(document);\n",
              "      </script>\n",
              "      <style>\n",
              "    .colab-df-container {\n",
              "      display:flex;\n",
              "      flex-wrap:wrap;\n",
              "      gap: 12px;\n",
              "    }\n",
              "\n",
              "    .colab-df-convert {\n",
              "      background-color: #E8F0FE;\n",
              "      border: none;\n",
              "      border-radius: 50%;\n",
              "      cursor: pointer;\n",
              "      display: none;\n",
              "      fill: #1967D2;\n",
              "      height: 32px;\n",
              "      padding: 0 0 0 0;\n",
              "      width: 32px;\n",
              "    }\n",
              "\n",
              "    .colab-df-convert:hover {\n",
              "      background-color: #E2EBFA;\n",
              "      box-shadow: 0px 1px 2px rgba(60, 64, 67, 0.3), 0px 1px 3px 1px rgba(60, 64, 67, 0.15);\n",
              "      fill: #174EA6;\n",
              "    }\n",
              "\n",
              "    [theme=dark] .colab-df-convert {\n",
              "      background-color: #3B4455;\n",
              "      fill: #D2E3FC;\n",
              "    }\n",
              "\n",
              "    [theme=dark] .colab-df-convert:hover {\n",
              "      background-color: #434B5C;\n",
              "      box-shadow: 0px 1px 3px 1px rgba(0, 0, 0, 0.15);\n",
              "      filter: drop-shadow(0px 1px 2px rgba(0, 0, 0, 0.3));\n",
              "      fill: #FFFFFF;\n",
              "    }\n",
              "  </style>\n",
              "\n",
              "      <script>\n",
              "        const buttonEl =\n",
              "          document.querySelector('#df-8056e099-ba56-4a05-b480-ca9b3e779c76 button.colab-df-convert');\n",
              "        buttonEl.style.display =\n",
              "          google.colab.kernel.accessAllowed ? 'block' : 'none';\n",
              "\n",
              "        async function convertToInteractive(key) {\n",
              "          const element = document.querySelector('#df-8056e099-ba56-4a05-b480-ca9b3e779c76');\n",
              "          const dataTable =\n",
              "            await google.colab.kernel.invokeFunction('convertToInteractive',\n",
              "                                                     [key], {});\n",
              "          if (!dataTable) return;\n",
              "\n",
              "          const docLinkHtml = 'Like what you see? Visit the ' +\n",
              "            '<a target=\"_blank\" href=https://colab.research.google.com/notebooks/data_table.ipynb>data table notebook</a>'\n",
              "            + ' to learn more about interactive tables.';\n",
              "          element.innerHTML = '';\n",
              "          dataTable['output_type'] = 'display_data';\n",
              "          await google.colab.output.renderOutput(dataTable, element);\n",
              "          const docLink = document.createElement('div');\n",
              "          docLink.innerHTML = docLinkHtml;\n",
              "          element.appendChild(docLink);\n",
              "        }\n",
              "      </script>\n",
              "    </div>\n",
              "  </div>\n"
            ]
          },
          "metadata": {},
          "execution_count": 30
        }
      ],
      "source": [
        "dff = df.groupby([\"airline\", \"airline_sentiment\"]).count()[\"name\"].reset_index(name=\"count\")\n",
        "total_comments = dff.groupby(\"airline\")[\"count\"].sum().reset_index(name=\"total_comments\")\n",
        "dff = dff.merge(total_comments, on=\"airline\")\n",
        "dff[\"percentage\"] = dff[\"count\"] / dff[\"total_comments\"] * 100\n",
        "dff"
      ]
    },
    {
      "cell_type": "markdown",
      "metadata": {
        "id": "Nc4nKCo_Y3CP"
      },
      "source": [
        "A Aerolinha United lidera o ranking das que tem maior número de comentários negativos. Virgin America tem o maior % de comentários positivos"
      ]
    },
    {
      "cell_type": "code",
      "execution_count": null,
      "metadata": {
        "colab": {
          "base_uri": "https://localhost:8080/",
          "height": 571
        },
        "id": "Ywe-GJBrbKG7",
        "outputId": "e3e00963-0268-41cd-896b-1177531a7279"
      },
      "outputs": [
        {
          "output_type": "display_data",
          "data": {
            "text/plain": [
              "<Figure size 1200x600 with 1 Axes>"
            ],
            "image/png": "[encoded data removed]"
          },
          "metadata": {}
        }
      ],
      "source": [
        "# Agrupando os dados por companhia aérea e sentimento e contando o número de comentários\n",
        "dff = df.groupby([\"airline\", \"airline_sentiment\"]).count()[\"name\"].reset_index(name=\"count\")\n",
        "\n",
        "# Criando o gráfico de barras usando a biblioteca seaborn\n",
        "plt.figure(figsize=(12, 6))\n",
        "sns.barplot(x=\"airline\", y=\"count\", hue=\"airline_sentiment\", data=dff)\n",
        "\n",
        "plt.xlabel(\"Companhia Aérea\")\n",
        "plt.ylabel(\"Número de Comentários\")\n",
        "plt.title(\"Número de Comentários por Companhia Aérea e Sentimento\")\n",
        "\n",
        "plt.show()"
      ]
    },
    {
      "cell_type": "markdown",
      "metadata": {
        "id": "wyy-JSmW-qJL"
      },
      "source": [
        "Acontece que nosso conjunto de dados é desequilibrado, com significativamente mais tweets negativos do que positivos. Vamos nos concentrar na questão de identificar tweets negativos e, portanto, tratar neutros e positivos como uma classe. É bom ter em mente que, embora seja um classificador terrível, se sempre adivinhássemos que um tweet era negativo, estaríamos certos 62,7% das vezes (9178 de 14640). Isso claramente não seria um classificador muito útil, mas vale a pena lembrar."
      ]
    },
    {
      "cell_type": "code",
      "execution_count": null,
      "metadata": {
        "colab": {
          "base_uri": "https://localhost:8080/"
        },
        "id": "whHp8Bzl_yrO",
        "outputId": "f2373e6a-b507-4058-a0b3-550d521b559d"
      },
      "outputs": [
        {
          "output_type": "stream",
          "name": "stderr",
          "text": [
            "[nltk_data] Downloading package wordnet to /root/nltk_data...\n",
            "[nltk_data]   Package wordnet is already up-to-date!\n",
            "[nltk_data] Downloading package stopwords to /root/nltk_data...\n",
            "[nltk_data]   Package stopwords is already up-to-date!\n",
            "[nltk_data] Downloading package punkt to /root/nltk_data...\n",
            "[nltk_data]   Package punkt is already up-to-date!\n"
          ]
        }
      ],
      "source": [
        "# Estas bibliotecas tem que ser abaixadas sempre que for rodar o código numa nova sessão.\n",
        "import nltk\n",
        "nltk.download('wordnet')\n",
        "nltk.download('stopwords')\n",
        "nltk.download('punkt')\n",
        "\n",
        "import re, nltk\n",
        "from nltk.stem import WordNetLemmatizer\n",
        "from nltk.corpus import stopwords\n"
      ]
    },
    {
      "cell_type": "code",
      "execution_count": null,
      "metadata": {
        "id": "EgjkiWxv_Bau"
      },
      "outputs": [],
      "source": [
        "stop_words = set(stopwords.words('english'))\n",
        "wordnet_lemmatizer = WordNetLemmatizer()\n",
        "\n",
        "def normalizer(tweet):\n",
        "    only_letters = re.sub(\"[^a-zA-Z]\", \" \",tweet)\n",
        "    tokens = nltk.word_tokenize(only_letters)[2:]\n",
        "    lower_case = [l.lower() for l in tokens]\n",
        "    filtered_result = list(filter(lambda l: l not in stop_words, lower_case))\n",
        "    lemmas = [wordnet_lemmatizer.lemmatize(t) for t in filtered_result]\n",
        "    return lemmas"
      ]
    },
    {
      "cell_type": "markdown",
      "metadata": {
        "id": "Ogc_NFUy-841"
      },
      "source": [
        "Testando o funcionamento do Normalizer."
      ]
    },
    {
      "cell_type": "code",
      "execution_count": null,
      "metadata": {
        "colab": {
          "base_uri": "https://localhost:8080/"
        },
        "id": "S5a6pd3H_Qxf",
        "outputId": "026c6485-75c1-4c6d-df78-0172eb38cb03"
      },
      "outputs": [
        {
          "output_type": "execute_result",
          "data": {
            "text/plain": [
              "['gym', 'three', 'time', 'week']"
            ]
          },
          "metadata": {},
          "execution_count": 34
        }
      ],
      "source": [
        "normalizer(\"I went to the gym three times this week.\")"
      ]
    },
    {
      "cell_type": "code",
      "execution_count": null,
      "metadata": {
        "colab": {
          "base_uri": "https://localhost:8080/",
          "height": 265
        },
        "id": "eBqbq0rZ_Z-D",
        "outputId": "e9a03575-4718-4314-e373-572714369daf"
      },
      "outputs": [
        {
          "output_type": "execute_result",
          "data": {
            "text/plain": [
              "                                                                                                                             text  \\\n",
              "0  @VirginAmerica What @dhepburn said.                                                                                              \n",
              "1  @VirginAmerica plus you've added commercials to the experience... tacky.                                                         \n",
              "2  @VirginAmerica I didn't today... Must mean I need to take another trip!                                                          \n",
              "3  @VirginAmerica it's really aggressive to blast obnoxious \"entertainment\" in your guests' faces &amp; they have little recourse   \n",
              "4  @VirginAmerica and it's a really big bad thing about it                                                                          \n",
              "\n",
              "                                                                            normalized_tweet  \n",
              "0  [dhepburn, said]                                                                           \n",
              "1  [added, commercial, experience, tacky]                                                     \n",
              "2  [today, must, mean, need, take, another, trip]                                             \n",
              "3  [really, aggressive, blast, obnoxious, entertainment, guest, face, amp, little, recourse]  \n",
              "4  [really, big, bad, thing]                                                                  "
            ],
            "text/html": [
              "\n",
              "\n",
              "  <div id=\"df-659cf845-4fcb-441e-b2cc-db8b9dbe6a2d\">\n",
              "    <div class=\"colab-df-container\">\n",
              "      <div>\n",
              "<style scoped>\n",
              "    .dataframe tbody tr th:only-of-type {\n",
              "        vertical-align: middle;\n",
              "    }\n",
              "\n",
              "    .dataframe tbody tr th {\n",
              "        vertical-align: top;\n",
              "    }\n",
              "\n",
              "    .dataframe thead th {\n",
              "        text-align: right;\n",
              "    }\n",
              "</style>\n",
              "<table border=\"1\" class=\"dataframe\">\n",
              "  <thead>\n",
              "    <tr style=\"text-align: right;\">\n",
              "      <th></th>\n",
              "      <th>text</th>\n",
              "      <th>normalized_tweet</th>\n",
              "    </tr>\n",
              "  </thead>\n",
              "  <tbody>\n",
              "    <tr>\n",
              "      <th>0</th>\n",
              "      <td>@VirginAmerica What @dhepburn said.</td>\n",
              "      <td>[dhepburn, said]</td>\n",
              "    </tr>\n",
              "    <tr>\n",
              "      <th>1</th>\n",
              "      <td>@VirginAmerica plus you've added commercials to the experience... tacky.</td>\n",
              "      <td>[added, commercial, experience, tacky]</td>\n",
              "    </tr>\n",
              "    <tr>\n",
              "      <th>2</th>\n",
              "      <td>@VirginAmerica I didn't today... Must mean I need to take another trip!</td>\n",
              "      <td>[today, must, mean, need, take, another, trip]</td>\n",
              "    </tr>\n",
              "    <tr>\n",
              "      <th>3</th>\n",
              "      <td>@VirginAmerica it's really aggressive to blast obnoxious \"entertainment\" in your guests' faces &amp;amp; they have little recourse</td>\n",
              "      <td>[really, aggressive, blast, obnoxious, entertainment, guest, face, amp, little, recourse]</td>\n",
              "    </tr>\n",
              "    <tr>\n",
              "      <th>4</th>\n",
              "      <td>@VirginAmerica and it's a really big bad thing about it</td>\n",
              "      <td>[really, big, bad, thing]</td>\n",
              "    </tr>\n",
              "  </tbody>\n",
              "</table>\n",
              "</div>\n",
              "      <button class=\"colab-df-convert\" onclick=\"convertToInteractive('df-659cf845-4fcb-441e-b2cc-db8b9dbe6a2d')\"\n",
              "              title=\"Convert this dataframe to an interactive table.\"\n",
              "              style=\"display:none;\">\n",
              "\n",
              "  <svg xmlns=\"http://www.w3.org/2000/svg\" height=\"24px\"viewBox=\"0 0 24 24\"\n",
              "       width=\"24px\">\n",
              "    <path d=\"M0 0h24v24H0V0z\" fill=\"none\"/>\n",
              "    <path d=\"M18.56 5.44l.94 2.06.94-2.06 2.06-.94-2.06-.94-.94-2.06-.94 2.06-2.06.94zm-11 1L8.5 8.5l.94-2.06 2.06-.94-2.06-.94L8.5 2.5l-.94 2.06-2.06.94zm10 10l.94 2.06.94-2.06 2.06-.94-2.06-.94-.94-2.06-.94 2.06-2.06.94z\"/><path d=\"M17.41 7.96l-1.37-1.37c-.4-.4-.92-.59-1.43-.59-.52 0-1.04.2-1.43.59L10.3 9.45l-7.72 7.72c-.78.78-.78 2.05 0 2.83L4 21.41c.39.39.9.59 1.41.59.51 0 1.02-.2 1.41-.59l7.78-7.78 2.81-2.81c.8-.78.8-2.07 0-2.86zM5.41 20L4 18.59l7.72-7.72 1.47 1.35L5.41 20z\"/>\n",
              "  </svg>\n",
              "      </button>\n",
              "\n",
              "\n",
              "\n",
              "    <div id=\"df-31f4b3d6-b491-448b-9465-f8c06513e252\">\n",
              "      <button class=\"colab-df-quickchart\" onclick=\"quickchart('df-31f4b3d6-b491-448b-9465-f8c06513e252')\"\n",
              "              title=\"Suggest charts.\"\n",
              "              style=\"display:none;\">\n",
              "\n",
              "<svg xmlns=\"http://www.w3.org/2000/svg\" height=\"24px\"viewBox=\"0 0 24 24\"\n",
              "     width=\"24px\">\n",
              "    <g>\n",
              "        <path d=\"M19 3H5c-1.1 0-2 .9-2 2v14c0 1.1.9 2 2 2h14c1.1 0 2-.9 2-2V5c0-1.1-.9-2-2-2zM9 17H7v-7h2v7zm4 0h-2V7h2v10zm4 0h-2v-4h2v4z\"/>\n",
              "    </g>\n",
              "</svg>\n",
              "      </button>\n",
              "    </div>\n",
              "\n",
              "<style>\n",
              "  .colab-df-quickchart {\n",
              "    background-color: #E8F0FE;\n",
              "    border: none;\n",
              "    border-radius: 50%;\n",
              "    cursor: pointer;\n",
              "    display: none;\n",
              "    fill: #1967D2;\n",
              "    height: 32px;\n",
              "    padding: 0 0 0 0;\n",
              "    width: 32px;\n",
              "  }\n",
              "\n",
              "  .colab-df-quickchart:hover {\n",
              "    background-color: #E2EBFA;\n",
              "    box-shadow: 0px 1px 2px rgba(60, 64, 67, 0.3), 0px 1px 3px 1px rgba(60, 64, 67, 0.15);\n",
              "    fill: #174EA6;\n",
              "  }\n",
              "\n",
              "  [theme=dark] .colab-df-quickchart {\n",
              "    background-color: #3B4455;\n",
              "    fill: #D2E3FC;\n",
              "  }\n",
              "\n",
              "  [theme=dark] .colab-df-quickchart:hover {\n",
              "    background-color: #434B5C;\n",
              "    box-shadow: 0px 1px 3px 1px rgba(0, 0, 0, 0.15);\n",
              "    filter: drop-shadow(0px 1px 2px rgba(0, 0, 0, 0.3));\n",
              "    fill: #FFFFFF;\n",
              "  }\n",
              "</style>\n",
              "\n",
              "    <script>\n",
              "      async function quickchart(key) {\n",
              "        const containerElement = document.querySelector('#' + key);\n",
              "        const charts = await google.colab.kernel.invokeFunction(\n",
              "            'suggestCharts', [key], {});\n",
              "      }\n",
              "    </script>\n",
              "\n",
              "      <script>\n",
              "\n",
              "function displayQuickchartButton(domScope) {\n",
              "  let quickchartButtonEl =\n",
              "    domScope.querySelector('#df-31f4b3d6-b491-448b-9465-f8c06513e252 button.colab-df-quickchart');\n",
              "  quickchartButtonEl.style.display =\n",
              "    google.colab.kernel.accessAllowed ? 'block' : 'none';\n",
              "}\n",
              "\n",
              "        displayQuickchartButton(document);\n",
              "      </script>\n",
              "      <style>\n",
              "    .colab-df-container {\n",
              "      display:flex;\n",
              "      flex-wrap:wrap;\n",
              "      gap: 12px;\n",
              "    }\n",
              "\n",
              "    .colab-df-convert {\n",
              "      background-color: #E8F0FE;\n",
              "      border: none;\n",
              "      border-radius: 50%;\n",
              "      cursor: pointer;\n",
              "      display: none;\n",
              "      fill: #1967D2;\n",
              "      height: 32px;\n",
              "      padding: 0 0 0 0;\n",
              "      width: 32px;\n",
              "    }\n",
              "\n",
              "    .colab-df-convert:hover {\n",
              "      background-color: #E2EBFA;\n",
              "      box-shadow: 0px 1px 2px rgba(60, 64, 67, 0.3), 0px 1px 3px 1px rgba(60, 64, 67, 0.15);\n",
              "      fill: #174EA6;\n",
              "    }\n",
              "\n",
              "    [theme=dark] .colab-df-convert {\n",
              "      background-color: #3B4455;\n",
              "      fill: #D2E3FC;\n",
              "    }\n",
              "\n",
              "    [theme=dark] .colab-df-convert:hover {\n",
              "      background-color: #434B5C;\n",
              "      box-shadow: 0px 1px 3px 1px rgba(0, 0, 0, 0.15);\n",
              "      filter: drop-shadow(0px 1px 2px rgba(0, 0, 0, 0.3));\n",
              "      fill: #FFFFFF;\n",
              "    }\n",
              "  </style>\n",
              "\n",
              "      <script>\n",
              "        const buttonEl =\n",
              "          document.querySelector('#df-659cf845-4fcb-441e-b2cc-db8b9dbe6a2d button.colab-df-convert');\n",
              "        buttonEl.style.display =\n",
              "          google.colab.kernel.accessAllowed ? 'block' : 'none';\n",
              "\n",
              "        async function convertToInteractive(key) {\n",
              "          const element = document.querySelector('#df-659cf845-4fcb-441e-b2cc-db8b9dbe6a2d');\n",
              "          const dataTable =\n",
              "            await google.colab.kernel.invokeFunction('convertToInteractive',\n",
              "                                                     [key], {});\n",
              "          if (!dataTable) return;\n",
              "\n",
              "          const docLinkHtml = 'Like what you see? Visit the ' +\n",
              "            '<a target=\"_blank\" href=https://colab.research.google.com/notebooks/data_table.ipynb>data table notebook</a>'\n",
              "            + ' to learn more about interactive tables.';\n",
              "          element.innerHTML = '';\n",
              "          dataTable['output_type'] = 'display_data';\n",
              "          await google.colab.output.renderOutput(dataTable, element);\n",
              "          const docLink = document.createElement('div');\n",
              "          docLink.innerHTML = docLinkHtml;\n",
              "          element.appendChild(docLink);\n",
              "        }\n",
              "      </script>\n",
              "    </div>\n",
              "  </div>\n"
            ]
          },
          "metadata": {},
          "execution_count": 35
        }
      ],
      "source": [
        "pd.set_option('display.max_colwidth', -1) # Setting this so we can see the full content of cells\n",
        "df['normalized_tweet'] = df.text.apply(normalizer)\n",
        "df[['text','normalized_tweet']].head(5)"
      ]
    },
    {
      "cell_type": "code",
      "execution_count": null,
      "metadata": {
        "colab": {
          "base_uri": "https://localhost:8080/",
          "height": 265
        },
        "id": "7udeZaioCwoc",
        "outputId": "cefbc2a2-f7dd-477f-e856-1b4a100cb575"
      },
      "outputs": [
        {
          "output_type": "execute_result",
          "data": {
            "text/plain": [
              "                                                                                                                                                                                                                                                                                                                                                        grams\n",
              "0  [dhepburn said]                                                                                                                                                                                                                                                                                                                                           \n",
              "1  [added commercial, commercial experience, experience tacky, added commercial experience, commercial experience tacky]                                                                                                                                                                                                                                     \n",
              "2  [today must, must mean, mean need, need take, take another, another trip, today must mean, must mean need, mean need take, need take another, take another trip]                                                                                                                                                                                          \n",
              "3  [really aggressive, aggressive blast, blast obnoxious, obnoxious entertainment, entertainment guest, guest face, face amp, amp little, little recourse, really aggressive blast, aggressive blast obnoxious, blast obnoxious entertainment, obnoxious entertainment guest, entertainment guest face, guest face amp, face amp little, amp little recourse]\n",
              "4  [really big, big bad, bad thing, really big bad, big bad thing]                                                                                                                                                                                                                                                                                           "
            ],
            "text/html": [
              "\n",
              "\n",
              "  <div id=\"df-6a2efda7-b1cb-4e34-83bd-a50ed6608f0f\">\n",
              "    <div class=\"colab-df-container\">\n",
              "      <div>\n",
              "<style scoped>\n",
              "    .dataframe tbody tr th:only-of-type {\n",
              "        vertical-align: middle;\n",
              "    }\n",
              "\n",
              "    .dataframe tbody tr th {\n",
              "        vertical-align: top;\n",
              "    }\n",
              "\n",
              "    .dataframe thead th {\n",
              "        text-align: right;\n",
              "    }\n",
              "</style>\n",
              "<table border=\"1\" class=\"dataframe\">\n",
              "  <thead>\n",
              "    <tr style=\"text-align: right;\">\n",
              "      <th></th>\n",
              "      <th>grams</th>\n",
              "    </tr>\n",
              "  </thead>\n",
              "  <tbody>\n",
              "    <tr>\n",
              "      <th>0</th>\n",
              "      <td>[dhepburn said]</td>\n",
              "    </tr>\n",
              "    <tr>\n",
              "      <th>1</th>\n",
              "      <td>[added commercial, commercial experience, experience tacky, added commercial experience, commercial experience tacky]</td>\n",
              "    </tr>\n",
              "    <tr>\n",
              "      <th>2</th>\n",
              "      <td>[today must, must mean, mean need, need take, take another, another trip, today must mean, must mean need, mean need take, need take another, take another trip]</td>\n",
              "    </tr>\n",
              "    <tr>\n",
              "      <th>3</th>\n",
              "      <td>[really aggressive, aggressive blast, blast obnoxious, obnoxious entertainment, entertainment guest, guest face, face amp, amp little, little recourse, really aggressive blast, aggressive blast obnoxious, blast obnoxious entertainment, obnoxious entertainment guest, entertainment guest face, guest face amp, face amp little, amp little recourse]</td>\n",
              "    </tr>\n",
              "    <tr>\n",
              "      <th>4</th>\n",
              "      <td>[really big, big bad, bad thing, really big bad, big bad thing]</td>\n",
              "    </tr>\n",
              "  </tbody>\n",
              "</table>\n",
              "</div>\n",
              "      <button class=\"colab-df-convert\" onclick=\"convertToInteractive('df-6a2efda7-b1cb-4e34-83bd-a50ed6608f0f')\"\n",
              "              title=\"Convert this dataframe to an interactive table.\"\n",
              "              style=\"display:none;\">\n",
              "\n",
              "  <svg xmlns=\"http://www.w3.org/2000/svg\" height=\"24px\"viewBox=\"0 0 24 24\"\n",
              "       width=\"24px\">\n",
              "    <path d=\"M0 0h24v24H0V0z\" fill=\"none\"/>\n",
              "    <path d=\"M18.56 5.44l.94 2.06.94-2.06 2.06-.94-2.06-.94-.94-2.06-.94 2.06-2.06.94zm-11 1L8.5 8.5l.94-2.06 2.06-.94-2.06-.94L8.5 2.5l-.94 2.06-2.06.94zm10 10l.94 2.06.94-2.06 2.06-.94-2.06-.94-.94-2.06-.94 2.06-2.06.94z\"/><path d=\"M17.41 7.96l-1.37-1.37c-.4-.4-.92-.59-1.43-.59-.52 0-1.04.2-1.43.59L10.3 9.45l-7.72 7.72c-.78.78-.78 2.05 0 2.83L4 21.41c.39.39.9.59 1.41.59.51 0 1.02-.2 1.41-.59l7.78-7.78 2.81-2.81c.8-.78.8-2.07 0-2.86zM5.41 20L4 18.59l7.72-7.72 1.47 1.35L5.41 20z\"/>\n",
              "  </svg>\n",
              "      </button>\n",
              "\n",
              "\n",
              "\n",
              "    <div id=\"df-b621ecc7-7b59-49e1-b13f-3a5b00e21826\">\n",
              "      <button class=\"colab-df-quickchart\" onclick=\"quickchart('df-b621ecc7-7b59-49e1-b13f-3a5b00e21826')\"\n",
              "              title=\"Suggest charts.\"\n",
              "              style=\"display:none;\">\n",
              "\n",
              "<svg xmlns=\"http://www.w3.org/2000/svg\" height=\"24px\"viewBox=\"0 0 24 24\"\n",
              "     width=\"24px\">\n",
              "    <g>\n",
              "        <path d=\"M19 3H5c-1.1 0-2 .9-2 2v14c0 1.1.9 2 2 2h14c1.1 0 2-.9 2-2V5c0-1.1-.9-2-2-2zM9 17H7v-7h2v7zm4 0h-2V7h2v10zm4 0h-2v-4h2v4z\"/>\n",
              "    </g>\n",
              "</svg>\n",
              "      </button>\n",
              "    </div>\n",
              "\n",
              "<style>\n",
              "  .colab-df-quickchart {\n",
              "    background-color: #E8F0FE;\n",
              "    border: none;\n",
              "    border-radius: 50%;\n",
              "    cursor: pointer;\n",
              "    display: none;\n",
              "    fill: #1967D2;\n",
              "    height: 32px;\n",
              "    padding: 0 0 0 0;\n",
              "    width: 32px;\n",
              "  }\n",
              "\n",
              "  .colab-df-quickchart:hover {\n",
              "    background-color: #E2EBFA;\n",
              "    box-shadow: 0px 1px 2px rgba(60, 64, 67, 0.3), 0px 1px 3px 1px rgba(60, 64, 67, 0.15);\n",
              "    fill: #174EA6;\n",
              "  }\n",
              "\n",
              "  [theme=dark] .colab-df-quickchart {\n",
              "    background-color: #3B4455;\n",
              "    fill: #D2E3FC;\n",
              "  }\n",
              "\n",
              "  [theme=dark] .colab-df-quickchart:hover {\n",
              "    background-color: #434B5C;\n",
              "    box-shadow: 0px 1px 3px 1px rgba(0, 0, 0, 0.15);\n",
              "    filter: drop-shadow(0px 1px 2px rgba(0, 0, 0, 0.3));\n",
              "    fill: #FFFFFF;\n",
              "  }\n",
              "</style>\n",
              "\n",
              "    <script>\n",
              "      async function quickchart(key) {\n",
              "        const containerElement = document.querySelector('#' + key);\n",
              "        const charts = await google.colab.kernel.invokeFunction(\n",
              "            'suggestCharts', [key], {});\n",
              "      }\n",
              "    </script>\n",
              "\n",
              "      <script>\n",
              "\n",
              "function displayQuickchartButton(domScope) {\n",
              "  let quickchartButtonEl =\n",
              "    domScope.querySelector('#df-b621ecc7-7b59-49e1-b13f-3a5b00e21826 button.colab-df-quickchart');\n",
              "  quickchartButtonEl.style.display =\n",
              "    google.colab.kernel.accessAllowed ? 'block' : 'none';\n",
              "}\n",
              "\n",
              "        displayQuickchartButton(document);\n",
              "      </script>\n",
              "      <style>\n",
              "    .colab-df-container {\n",
              "      display:flex;\n",
              "      flex-wrap:wrap;\n",
              "      gap: 12px;\n",
              "    }\n",
              "\n",
              "    .colab-df-convert {\n",
              "      background-color: #E8F0FE;\n",
              "      border: none;\n",
              "      border-radius: 50%;\n",
              "      cursor: pointer;\n",
              "      display: none;\n",
              "      fill: #1967D2;\n",
              "      height: 32px;\n",
              "      padding: 0 0 0 0;\n",
              "      width: 32px;\n",
              "    }\n",
              "\n",
              "    .colab-df-convert:hover {\n",
              "      background-color: #E2EBFA;\n",
              "      box-shadow: 0px 1px 2px rgba(60, 64, 67, 0.3), 0px 1px 3px 1px rgba(60, 64, 67, 0.15);\n",
              "      fill: #174EA6;\n",
              "    }\n",
              "\n",
              "    [theme=dark] .colab-df-convert {\n",
              "      background-color: #3B4455;\n",
              "      fill: #D2E3FC;\n",
              "    }\n",
              "\n",
              "    [theme=dark] .colab-df-convert:hover {\n",
              "      background-color: #434B5C;\n",
              "      box-shadow: 0px 1px 3px 1px rgba(0, 0, 0, 0.15);\n",
              "      filter: drop-shadow(0px 1px 2px rgba(0, 0, 0, 0.3));\n",
              "      fill: #FFFFFF;\n",
              "    }\n",
              "  </style>\n",
              "\n",
              "      <script>\n",
              "        const buttonEl =\n",
              "          document.querySelector('#df-6a2efda7-b1cb-4e34-83bd-a50ed6608f0f button.colab-df-convert');\n",
              "        buttonEl.style.display =\n",
              "          google.colab.kernel.accessAllowed ? 'block' : 'none';\n",
              "\n",
              "        async function convertToInteractive(key) {\n",
              "          const element = document.querySelector('#df-6a2efda7-b1cb-4e34-83bd-a50ed6608f0f');\n",
              "          const dataTable =\n",
              "            await google.colab.kernel.invokeFunction('convertToInteractive',\n",
              "                                                     [key], {});\n",
              "          if (!dataTable) return;\n",
              "\n",
              "          const docLinkHtml = 'Like what you see? Visit the ' +\n",
              "            '<a target=\"_blank\" href=https://colab.research.google.com/notebooks/data_table.ipynb>data table notebook</a>'\n",
              "            + ' to learn more about interactive tables.';\n",
              "          element.innerHTML = '';\n",
              "          dataTable['output_type'] = 'display_data';\n",
              "          await google.colab.output.renderOutput(dataTable, element);\n",
              "          const docLink = document.createElement('div');\n",
              "          docLink.innerHTML = docLinkHtml;\n",
              "          element.appendChild(docLink);\n",
              "        }\n",
              "      </script>\n",
              "    </div>\n",
              "  </div>\n"
            ]
          },
          "metadata": {},
          "execution_count": 36
        }
      ],
      "source": [
        "# Função para criar combinações de duas palavras contínuas e/ou três palavras continuas que se encontram em uma mesma frase.\n",
        "from nltk import ngrams\n",
        "def ngrams(input_list):\n",
        "    #onegrams = input_list\n",
        "    bigrams = [' '.join(t) for t in list(zip(input_list, input_list[1:]))]\n",
        "    trigrams = [' '.join(t) for t in list(zip(input_list, input_list[1:], input_list[2:]))]\n",
        "    return bigrams+trigrams # Bigramas e trigramas\n",
        "df['grams'] = df.normalized_tweet.apply(ngrams)\n",
        "df[['grams']].head()"
      ]
    },
    {
      "cell_type": "code",
      "execution_count": null,
      "metadata": {
        "id": "CE8_b7E4DlWm"
      },
      "outputs": [],
      "source": [
        "import collections\n",
        "def count_words(input):\n",
        "    cnt = collections.Counter()\n",
        "    for row in input:\n",
        "        for word in row:\n",
        "            cnt[word] += 1\n",
        "    return cnt"
      ]
    },
    {
      "cell_type": "code",
      "execution_count": null,
      "metadata": {
        "colab": {
          "base_uri": "https://localhost:8080/"
        },
        "id": "SOQRyioAC3cp",
        "outputId": "26ca360d-7e3c-4f30-dcb8-2a7c9294b337"
      },
      "outputs": [
        {
          "output_type": "execute_result",
          "data": {
            "text/plain": [
              "[('http co', 13),\n",
              " ('cancelled flightled', 9),\n",
              " ('late flight', 7),\n",
              " ('customer service', 6),\n",
              " ('flight flight', 6),\n",
              " ('flight booking', 5),\n",
              " ('booking problem', 5),\n",
              " ('flight booking problem', 5),\n",
              " ('cancelled flight', 5),\n",
              " ('flightled flight', 5)]"
            ]
          },
          "metadata": {},
          "execution_count": 38
        }
      ],
      "source": [
        "df[(df.airline_sentiment == 'negative')][['grams']].apply(count_words)['grams'].most_common(10)"
      ]
    },
    {
      "cell_type": "markdown",
      "metadata": {
        "id": "nI61WSRxeuze"
      },
      "source": [
        "Geralmente os comentários negativos estão associados a reclamações por voos atrasados e/ou cancelados"
      ]
    },
    {
      "cell_type": "code",
      "execution_count": null,
      "metadata": {
        "colab": {
          "base_uri": "https://localhost:8080/"
        },
        "id": "fN7zTx6NC7DM",
        "outputId": "4e57b637-64d1-4d32-8de4-a13597a70e37"
      },
      "outputs": [
        {
          "output_type": "execute_result",
          "data": {
            "text/plain": [
              "[('http co', 26),\n",
              " ('customer service', 6),\n",
              " ('virgin america', 3),\n",
              " ('love guy', 3),\n",
              " ('every time', 2),\n",
              " ('time fly', 2),\n",
              " ('every time fly', 2),\n",
              " ('great deal', 2),\n",
              " ('first cross', 2),\n",
              " ('cross country', 2)]"
            ]
          },
          "metadata": {},
          "execution_count": 39
        }
      ],
      "source": [
        "df[(df.airline_sentiment == 'positive')][['grams']].apply(count_words)['grams'].most_common(10)"
      ]
    },
    {
      "cell_type": "markdown",
      "metadata": {
        "id": "wp0bVLiTfNz_"
      },
      "source": [
        "Geralmente os comentários positivos estão associados a serviço ao cliente, atendimento da tripulação."
      ]
    },
    {
      "cell_type": "markdown",
      "metadata": {
        "id": "HFThGyvJfzvF"
      },
      "source": [
        "### Preparando os dados para aplicar o modelo de rede neural simples"
      ]
    },
    {
      "cell_type": "code",
      "execution_count": null,
      "metadata": {
        "id": "fiMgpX_nE73z"
      },
      "outputs": [],
      "source": [
        "count_vectorizer = CountVectorizer(ngram_range=(1,2))\n",
        "vectorized_data = count_vectorizer.fit_transform(df.text)\n",
        "indexed_data = hstack((np.array(range(0,vectorized_data.shape[0]))[:,None], vectorized_data))"
      ]
    },
    {
      "cell_type": "code",
      "execution_count": null,
      "metadata": {
        "id": "9GhDYEZBFGKX"
      },
      "outputs": [],
      "source": [
        "# Convertendo o sentimento target a um inteiro. Negativo: 1 e Positivo/Neutro: 0\n",
        "def sentiment2target(sentiment):\n",
        "    return {\n",
        "        'negative': 1,\n",
        "        'neutral': 0,\n",
        "        'positive' : 0\n",
        "    }[sentiment]\n",
        "targets = df.airline_sentiment.apply(sentiment2target)"
      ]
    },
    {
      "cell_type": "code",
      "execution_count": null,
      "metadata": {
        "id": "D3fg3wRhFPYt"
      },
      "outputs": [],
      "source": [
        "# Dividindo os dados nos grupos de treinamento e teste para aplicação da modelagem.\n",
        "data_train, data_test, targets_train, targets_test = train_test_split(indexed_data, targets, test_size=0.3, random_state=0)\n",
        "data_train_index = data_train[:,0]\n",
        "data_train = data_train[:,1:]\n",
        "data_test_index = data_test[:,0]\n",
        "data_test = data_test[:,1:]"
      ]
    },
    {
      "cell_type": "markdown",
      "metadata": {
        "id": "vvnerxxsHN9A"
      },
      "source": [
        "* Ajustando os dados com a aplicação de uma rede neural simples\n",
        "* O teste e otimização de hiperparametros foi feito de forma manual, tentámos fazer um ciclo automatico com validação cruzada, mas não foi possivel devido ao custo computacional.\n",
        "* Foi feita a comparação de resultados obtidos com o treinamento para cada conjunto de hiperparametros.\n",
        "\n",
        "\n",
        "\n",
        "\n"
      ]
    },
    {
      "cell_type": "markdown",
      "metadata": {
        "id": "wuDMwmoNL5lf"
      },
      "source": []
    },
    {
      "cell_type": "code",
      "execution_count": null,
      "metadata": {
        "colab": {
          "base_uri": "https://localhost:8080/"
        },
        "id": "HlKGCZauIf4L",
        "outputId": "8d070870-63fb-4038-e22b-5d2eaa5b2d76"
      },
      "outputs": [
        {
          "output_type": "stream",
          "name": "stdout",
          "text": [
            "Epoch 1/10\n",
            "14/14 [==============================] - 293s 20s/step - loss: 0.6848 - accuracy: 0.6095\n",
            "Epoch 2/10\n",
            "14/14 [==============================] - 283s 20s/step - loss: 0.6732 - accuracy: 0.6095\n",
            "Epoch 3/10\n",
            "14/14 [==============================] - 281s 20s/step - loss: 0.6706 - accuracy: 0.6095\n",
            "Epoch 4/10\n",
            "14/14 [==============================] - 283s 20s/step - loss: 0.6698 - accuracy: 0.6095\n",
            "Epoch 5/10\n",
            "14/14 [==============================] - 282s 20s/step - loss: 0.6695 - accuracy: 0.6095\n",
            "Epoch 6/10\n",
            "14/14 [==============================] - 280s 20s/step - loss: 0.6697 - accuracy: 0.6095\n",
            "Epoch 7/10\n",
            "14/14 [==============================] - 272s 19s/step - loss: 0.6702 - accuracy: 0.6095\n",
            "Epoch 8/10\n",
            "14/14 [==============================] - 275s 20s/step - loss: 0.6689 - accuracy: 0.6095\n",
            "Epoch 9/10\n",
            "14/14 [==============================] - 273s 20s/step - loss: 0.6691 - accuracy: 0.6095\n",
            "Epoch 10/10\n",
            "14/14 [==============================] - 273s 19s/step - loss: 0.6692 - accuracy: 0.6095\n",
            "6/6 [==============================] - 7s 1s/step - loss: 0.6851 - accuracy: 0.5722\n",
            "Test Accuracy: 0.5722222328186035\n"
          ]
        }
      ],
      "source": [
        "# Definindo o tamanho do vocabulário e o comprimento máximo das sequências\n",
        "vocab_size = 500 #Modelo final: colocar 5000, 8000\n",
        "max_length = 8754\n",
        "\n",
        "# Criando um modelo de rede neural simples\n",
        "model = tf.keras.Sequential([\n",
        "    tf.keras.layers.Embedding(vocab_size, 16, input_length=max_length),\n",
        "    tf.keras.layers.Bidirectional(tf.keras.layers.LSTM(5)), #Modelo final: LSTM=10\n",
        "    tf.keras.layers.Dense(1, activation='sigmoid')\n",
        "])\n",
        "\n",
        "# Compilando o modelo com uma função de perda e um otimizador\n",
        "model.compile(loss='binary_crossentropy', optimizer='adam', metrics=['accuracy'])\n",
        "\n",
        "# Convertendo os dados de treinamento em um tensor denso\n",
        "data_train_dense = data_train.todense()\n",
        "data_test_dense = data_test.todense()\n",
        "\n",
        "# Treinando o modelo nos dados de treinamento\n",
        "model.fit(data_train_dense, targets_train, epochs=10)\n",
        "\n",
        "# Avaliando o modelo nos dados de teste\n",
        "loss, accuracy = model.evaluate(data_test_dense, targets_test)\n",
        "print(f'Test Accuracy: {accuracy}')"
      ]
    },
    {
      "cell_type": "markdown",
      "metadata": {
        "id": "obMqwWqbTZh6"
      },
      "source": [
        "#### Teste n: 1\n",
        "Rodada 27/06\n",
        "Epoch 1/10\n",
        "12/12 [==============================] - 227s 18s/step - loss: 0.6906 - accuracy: 0.5722\n",
        "Epoch 2/10\n",
        "12/12 [==============================] - 221s 18s/step - loss: 0.6825 - accuracy: 0.6000\n",
        "Epoch 3/10\n",
        "12/12 [==============================] - 219s 18s/step - loss: 0.6780 - accuracy: 0.6000\n",
        "Epoch 4/10\n",
        "12/12 [==============================] - 218s 18s/step - loss: 0.6737 - accuracy: 0.6000\n",
        "Epoch 5/10\n",
        "12/12 [==============================] - 219s 18s/step - loss: 0.6734 - accuracy: 0.6000\n",
        "Epoch 6/10\n",
        "12/12 [==============================] - 217s 18s/step - loss: 0.6731 - accuracy: 0.6000\n",
        "Epoch 7/10\n",
        "12/12 [==============================] - 218s 18s/step - loss: 0.6736 - accuracy: 0.6000\n",
        "Epoch 8/10\n",
        "12/12 [==============================] - 221s 18s/step - loss: 0.6736 - accuracy: 0.6000\n",
        "Epoch 9/10\n",
        "12/12 [==============================] - 218s 18s/step - loss: 0.6742 - accuracy: 0.6000\n",
        "Epoch 10/10\n",
        "12/12 [==============================] - 219s 18s/step - loss: 0.6731 - accuracy: 0.6000\n",
        "8/8 [==============================] - 8s 957ms/step - loss: 0.6748 - accuracy: 0.5958\n",
        "Test Accuracy: 0.5958333611488342"
      ]
    },
    {
      "cell_type": "markdown",
      "metadata": {
        "id": "NADVewUKa5K8"
      },
      "source": [
        "#### Teste n: 2\n",
        "\n",
        "Rodada Antiga 20/06 Epoch 1/10\n",
        "3/3 [==============================] - 18s 4s/step - loss: 0.6919 - accuracy: 0.3625\n",
        "\n",
        "Epoch 2/10\n",
        "3/3 [==============================] - 13s 4s/step - loss: 0.6683 - accuracy: 0.3875\n",
        "\n",
        "Epoch 3/10\n",
        "3/3 [==============================] - 13s 4s/step - loss: 0.6463 - accuracy: 0.3875\n",
        "\n",
        "Epoch 4/10\n",
        "3/3 [==============================] - 14s 5s/step - loss: 0.6223 - accuracy: 0.3875\n",
        "\n",
        "Epoch 5/10\n",
        "3/3 [==============================] - 13s 4s/step - loss: 0.6005 - accuracy: 0.3875\n",
        "\n",
        "Epoch 6/10\n",
        "3/3 [==============================] - 13s 4s/step - loss: 0.5770 - accuracy: 0.3875\n",
        "\n",
        "Epoch 7/10\n",
        "3/3 [==============================] - 13s 4s/step - loss: 0.5481 - accuracy: 0.3875\n",
        "\n",
        "Epoch 8/10\n",
        "3/3 [==============================] - 13s 4s/step - loss: 0.5169 - accuracy: 0.3875\n",
        "\n",
        "Epoch 9/10\n",
        "3/3 [==============================] - 13s 4s/step - loss: 0.4857 - accuracy: 0.3875\n",
        "\n",
        "Epoch 10/10\n",
        "3/3 [==============================] - 13s 4s/step - loss: 0.4470 - accuracy: 0.3875\n",
        "\n",
        "4/4 [==============================] - 54s 363ms/step - loss: 0.5437 - accuracy: 0.2833\n",
        "Test Accuracy: 0.28333333134651184"
      ]
    },
    {
      "cell_type": "markdown",
      "source": [
        "#### Teste n: 3\n",
        "\n",
        "Epoch 1/10\n",
        "44/44 [==============================] - 11441s 260s/step - loss: 0.6695 - accuracy: 0.6264\n",
        "\n",
        "Epoch 2/10\n",
        "40/44 [==========================>...] - ETA: 17:05 - loss: 0.6634 - accuracy: 0.6227\n",
        "\n",
        "Este teste foi interrompido/travou depois de mais de 6h. Os resultados pareciam ser bons mas o poder computacional do meu computador, não foi suficiente para lidar com este modelo."
      ],
      "metadata": {
        "id": "RFmIYhZM1pSR"
      }
    },
    {
      "cell_type": "markdown",
      "source": [
        "#### Teste n: 4\n",
        "\n",
        "Epoch 1/10\n",
        "44/44 [==============================] - 10858s 246s/step - loss: 0.6698 - accuracy: 0.6264\n",
        "\n",
        "Epoch 2/10\n",
        "15/44 [=========>....................] - ETA: 1:56:05 - loss: 0.6504 - accuracy: 0.6458\n",
        "\n",
        "Este teste foi interrompido/travou depois de mais de 4h. Os resultados pareciam ser bons mas o poder computacional do meu computador, não foi suficiente para lidar com este modelo.  "
      ],
      "metadata": {
        "id": "lTLnWDED9TKH"
      }
    },
    {
      "cell_type": "markdown",
      "source": [
        "#### Teste n: 5\n",
        "\n",
        "Epoch 1/10\n",
        "14/14 [==============================] - 293s 20s/step - loss: 0.6848 - accuracy: 0.6095\n",
        "Epoch 2/10\n",
        "14/14 [==============================] - 283s 20s/step - loss: 0.6732 - accuracy: 0.6095\n",
        "Epoch 3/10\n",
        "14/14 [==============================] - 281s 20s/step - loss: 0.6706 - accuracy: 0.6095\n",
        "Epoch 4/10\n",
        "14/14 [==============================] - 283s 20s/step - loss: 0.6698 - accuracy: 0.6095\n",
        "Epoch 5/10\n",
        "14/14 [==============================] - 282s 20s/step - loss: 0.6695 - accuracy: 0.6095\n",
        "Epoch 6/10\n",
        "14/14 [==============================] - 280s 20s/step - loss: 0.6697 - accuracy: 0.6095\n",
        "Epoch 7/10\n",
        "14/14 [==============================] - 272s 19s/step - loss: 0.6702 - accuracy: 0.6095\n",
        "Epoch 8/10\n",
        "14/14 [==============================] - 275s 20s/step - loss: 0.6689 - accuracy: 0.6095\n",
        "Epoch 9/10\n",
        "14/14 [==============================] - 273s 20s/step - loss: 0.6691 - accuracy: 0.6095\n",
        "Epoch 10/10\n",
        "14/14 [==============================] - 273s 19s/step - loss: 0.6692 - accuracy: 0.6095\n",
        "6/6 [==============================] - 7s 1s/step - loss: 0.6851 - accuracy: 0.5722\n",
        "Test Accuracy: 0.5722222328186035"
      ],
      "metadata": {
        "id": "Cc4Ni_T1LFkw"
      }
    },
    {
      "cell_type": "markdown",
      "metadata": {
        "id": "P5Nqd6ypPugS"
      },
      "source": [
        "#### O melhor modelo completamente rodado que conseguimos obter foi no teste n: 1, teve no grupo de teste um loss de 0.6748 e uma accuracy 0.5958"
      ]
    },
    {
      "cell_type": "markdown",
      "metadata": {
        "id": "9Lcb-9VLJL6O"
      },
      "source": [
        "### Conclusão"
      ]
    },
    {
      "cell_type": "markdown",
      "metadata": {
        "id": "cL-Z09CGJBSt"
      },
      "source": [
        "  Foi desenvolvido um modelo de rede neural para analisar os sentimentos expressos em comentários sobre algumas companhias aéreas específicas e classificá-los em “Positivos - Neutrais” ou “Negativos”. O objetivo do trabalho é fornecer insights valiosos para a empresa, a fim de ajudá-la a melhorar sua reputação e atendimento ao cliente. Para desenvolver o modelo, foi realizado um treinamento e teste, assim como otimização dos hiperparâmetros para obter o melhor modelo possível.\n",
        "\n",
        "O modelo obtido apresentou uma acurácia de 0.5958, o que indica que ele é capaz de classificar corretamente os comentários em 59.58% das vezes. Embora esse resultado seja razoável, ainda há espaço para melhorias na precisão do modelo. No entanto, é importante notar que foi realizada uma otimização dos hiperparâmetros para obter o melhor modelo possível, o que sugere que esse resultado é um dos melhores que pode ser alcançado considerando nosso poder computacional, os dados e técnicas utilizadas. No geral, o trabalho apresenta uma abordagem interessante para analisar os sentimentos dos clientes em relação às companhias aéreas e pode ser útil para ajudar as empresas a entenderem melhor as opiniões e emoções de seus clientes.\n"
      ]
    }
  ],
  "metadata": {
    "colab": {
      "provenance": [],
      "include_colab_link": true
    },
    "kernelspec": {
      "display_name": "Python 3",
      "name": "python3"
    },
    "language_info": {
      "name": "python"
    }
  },
  "nbformat": 4,
  "nbformat_minor": 0
}